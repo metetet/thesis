{
 "cells": [
  {
   "cell_type": "markdown",
   "metadata": {},
   "source": [
    "### Imports"
   ]
  },
  {
   "cell_type": "code",
   "execution_count": 17,
   "metadata": {},
   "outputs": [
    {
     "name": "stdout",
     "output_type": "stream",
     "text": [
      "e:\\Projects & Temp\\GitHub\\thesis\n"
     ]
    }
   ],
   "source": [
    "# https://huggingface.co/Organika/sdxl-detector#validation-metrics\n",
    "# The code below fine-tunes the model on the faces and art datasets (separately) and evaluates the model on their validation sets\n",
    "# https://huggingface.co/blog/fine-tune-vit\n",
    "\n",
    "import os\n",
    "import torch\n",
    "from transformers import AutoImageProcessor, AutoModelForImageClassification\n",
    "from datasets import load_dataset, load_metric\n",
    "import numpy as np\n",
    "import evaluate\n",
    "\n",
    "print(os.getcwd())\n",
    "os.chdir('e:\\\\Projects & Temp\\\\GitHub\\\\thesis')\n",
    "\n",
    "# CUDA check \n",
    "device = torch.device(\"cuda\" if torch.cuda.is_available() else \"cpu\")"
   ]
  },
  {
   "cell_type": "markdown",
   "metadata": {},
   "source": [
    "### Load Datasets and Model "
   ]
  },
  {
   "cell_type": "code",
   "execution_count": 8,
   "metadata": {},
   "outputs": [
    {
     "name": "stdout",
     "output_type": "stream",
     "text": [
      "DatasetDict({\n",
      "    train: Dataset({\n",
      "        features: ['image', 'label'],\n",
      "        num_rows: 12800\n",
      "    })\n",
      "    validation: Dataset({\n",
      "        features: ['image', 'label'],\n",
      "        num_rows: 1600\n",
      "    })\n",
      "    test: Dataset({\n",
      "        features: ['image', 'label'],\n",
      "        num_rows: 1600\n",
      "    })\n",
      "})\n"
     ]
    }
   ],
   "source": [
    "# Load model\n",
    "processor = AutoImageProcessor.from_pretrained(\"Organika/sdxl-detector\")\n",
    "model = AutoModelForImageClassification.from_pretrained(\"Organika/sdxl-detector\")\n",
    "\n",
    "# Load data\n",
    "art_dataset_path = 'archive/datasets/art_512x512'\n",
    "faces_dataset_path = 'archive/datasets/faces_512x512'\n",
    "\n",
    "art_ds = load_dataset(\"imagefolder\", data_dir=art_dataset_path) # wish i knew about this when i was doing RQ1\n",
    "faces_ds = load_dataset(\"imagefolder\", data_dir=faces_dataset_path)\n",
    "\n",
    "print(faces_ds)"
   ]
  },
  {
   "cell_type": "markdown",
   "metadata": {},
   "source": [
    "### Pre-Processing"
   ]
  },
  {
   "cell_type": "code",
   "execution_count": 11,
   "metadata": {},
   "outputs": [],
   "source": [
    "# Transform images to model input\n",
    "def transform(image_batch):\n",
    "    inputs = processor(images=image_batch, return_tensors=\"pt\")\n",
    "    inputs['labels'] = image_batch['labels']\n",
    "    return inputs\n",
    "\n",
    "art_ds_transformed = art_ds.with_transform(transform)\n",
    "faces_ds_transformed = faces_ds.with_transform(transform)"
   ]
  },
  {
   "cell_type": "code",
   "execution_count": 13,
   "metadata": {},
   "outputs": [],
   "source": [
    "# Turn dicts into tensors\n",
    "def collate_fn(batch):\n",
    "    return {\n",
    "        'pixel_values': torch.stack([x['pixel_values'] for x in batch]),\n",
    "        'labels': torch.tensor([x['labels'] for x in batch])\n",
    "    }"
   ]
  },
  {
   "cell_type": "code",
   "execution_count": 18,
   "metadata": {},
   "outputs": [
    {
     "name": "stderr",
     "output_type": "stream",
     "text": [
      "Downloading builder script: 100%|██████████| 4.20k/4.20k [00:00<?, ?B/s]\n",
      "Downloading builder script: 100%|██████████| 6.79k/6.79k [00:00<00:00, 6.78MB/s]\n"
     ]
    }
   ],
   "source": [
    "acc_metric = evaluate.load('accuracy')\n",
    "f1_metric = evaluate.load('f1')\n",
    "\n",
    "def compute_accuracy(p):\n",
    "    return acc_metric.compute(predictions=np.argmax(p.predictions, axis=1), references=p.label_ids)\n",
    "\n",
    "def compute_f1(p):\n",
    "    return f1_metric.compute(predictions=np.argmax(p.predictions, axis=1), references=p.label_ids)"
   ]
  },
  {
   "cell_type": "code",
   "execution_count": null,
   "metadata": {},
   "outputs": [],
   "source": [
    "# remember to write a comment about TrainingArguments and how you ensure that they are the same for the fine-tuned and original pre-trained model "
   ]
  }
 ],
 "metadata": {
  "language_info": {
   "name": "python"
  }
 },
 "nbformat": 4,
 "nbformat_minor": 2
}
